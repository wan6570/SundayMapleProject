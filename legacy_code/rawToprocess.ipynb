{
 "cells": [
  {
   "cell_type": "code",
   "execution_count": 35,
   "metadata": {},
   "outputs": [],
   "source": [
    "import re\n",
    "import numpy as np\n",
    "import pandas as pd\n",
    "\n",
    "df = pd.read_csv('data/processed_rawdata_sundaymaple.csv')\n",
    "\n",
    "# Function to remove time info\n",
    "def remove_time_info(string):\n",
    "    if pd.isna(string):\n",
    "        return string\n",
    "    else:\n",
    "        # Pattern to find anything inside parentheses\n",
    "        pattern = r'\\(.*?\\)'\n",
    "        # Remove anything inside parentheses\n",
    "        return re.sub(pattern, '', string).strip()\n",
    "\n",
    "# Apply the function to each cell in the dataframe\n",
    "df = df.applymap(remove_time_info)\n",
    "df.to_csv('data/raw_sundaymaple_date.csv', encoding='utf-8-sig', index=False)\n"
   ]
  },
  {
   "cell_type": "code",
   "execution_count": 36,
   "metadata": {},
   "outputs": [],
   "source": [
    "# Import necessary libraries\n",
    "import pandas as pd\n",
    "import re\n",
    "\n",
    "# Load the original CSV file again\n",
    "df_original = pd.read_csv('data/processed_rawdata_sundaymaple.csv', index_col=0)\n",
    "\n",
    "# Function to extract event interval info\n",
    "def extract_interval_info_v3(string):\n",
    "    if pd.isna(string):\n",
    "        return string\n",
    "    else:\n",
    "        # Pattern to find anything inside parentheses\n",
    "        pattern = r'\\(.*?\\)'\n",
    "        # Find anything inside parentheses\n",
    "        match = re.search(pattern, string)\n",
    "        if match:\n",
    "            # If a match is found, return the match without the parentheses\n",
    "            return match.group(0)[1:-1]\n",
    "        else:\n",
    "            # If no match is found, return NaN\n",
    "            return None\n",
    "\n",
    "# Apply the function to each cell in the dataframe\n",
    "df_interval_v3 = df_original.applymap(extract_interval_info_v3)\n",
    "df_interval_v3.head()\n",
    "\n",
    "df_interval_v3.to_csv('data/sundaymaple_interval.csv', encoding='utf-8-sig')\n",
    "\n"
   ]
  },
  {
   "cell_type": "code",
   "execution_count": null,
   "metadata": {},
   "outputs": [],
   "source": []
  }
 ],
 "metadata": {
  "kernelspec": {
   "display_name": "base",
   "language": "python",
   "name": "python3"
  },
  "language_info": {
   "codemirror_mode": {
    "name": "ipython",
    "version": 3
   },
   "file_extension": ".py",
   "mimetype": "text/x-python",
   "name": "python",
   "nbconvert_exporter": "python",
   "pygments_lexer": "ipython3",
   "version": "3.9.13"
  },
  "orig_nbformat": 4
 },
 "nbformat": 4,
 "nbformat_minor": 2
}
