{
 "cells": [
  {
   "cell_type": "code",
   "execution_count": 43,
   "metadata": {},
   "outputs": [
    {
     "data": {
      "text/plain": [
       "(23, 48)"
      ]
     },
     "execution_count": 43,
     "metadata": {},
     "output_type": "execute_result"
    }
   ],
   "source": [
    "import pandas as pd\n",
    "import numpy as np\n",
    "\n",
    "df = pd.read_csv('data.csv')\n",
    "df.shape"
   ]
  },
  {
   "cell_type": "code",
   "execution_count": 44,
   "metadata": {},
   "outputs": [],
   "source": [
    "row_name = []\n",
    "\n",
    "for i in range(0, df.shape[1]):\n",
    "    row_name.append(f'{i}')\n",
    "\n",
    "df.columns = row_name\n",
    "\n",
    "df.index = df['0']\n",
    "df.drop('0', axis= 1, inplace= True)"
   ]
  },
  {
   "cell_type": "code",
   "execution_count": 45,
   "metadata": {},
   "outputs": [],
   "source": [
    "df.to_csv(\"processed_data.csv\", index=True)"
   ]
  },
  {
   "cell_type": "code",
   "execution_count": 51,
   "metadata": {},
   "outputs": [
    {
     "data": {
      "text/plain": [
       "1                    2018.04.29(하루 종일)\n",
       "2             (+364일)2019.04.28(하루 종일)\n",
       "3             (+196일)2019.11.10(하루 종일)\n",
       "4     (+903일)2022.05.01(오전 10시~오후 10시)\n",
       "5                                  NaN\n",
       "6                                  NaN\n",
       "7                                  NaN\n",
       "8                                  NaN\n",
       "9                                  NaN\n",
       "10                                 NaN\n",
       "11                                 NaN\n",
       "12                                 NaN\n",
       "13                                 NaN\n",
       "14                                 NaN\n",
       "15                                 NaN\n",
       "16                                 NaN\n",
       "17                                 NaN\n",
       "18                                 NaN\n",
       "19                                 NaN\n",
       "20                                 NaN\n",
       "21                                 NaN\n",
       "22                                 NaN\n",
       "23                                 NaN\n",
       "24                                 NaN\n",
       "25                                 NaN\n",
       "26                                 NaN\n",
       "27                                 NaN\n",
       "28                                 NaN\n",
       "29                                 NaN\n",
       "30                                 NaN\n",
       "31                                 NaN\n",
       "32                                 NaN\n",
       "33                                 NaN\n",
       "34                                 NaN\n",
       "35                                 NaN\n",
       "36                                 NaN\n",
       "37                                 NaN\n",
       "38                                 NaN\n",
       "39                                 NaN\n",
       "40                                 NaN\n",
       "41                                 NaN\n",
       "42                                 NaN\n",
       "43                                 NaN\n",
       "44                                 NaN\n",
       "45                                 NaN\n",
       "46                                 NaN\n",
       "47                                 NaN\n",
       "Name: 경험치 2배, dtype: object"
      ]
     },
     "execution_count": 51,
     "metadata": {},
     "output_type": "execute_result"
    }
   ],
   "source": [
    "df.loc['경험치 2배', :]"
   ]
  },
  {
   "cell_type": "code",
   "execution_count": 52,
   "metadata": {},
   "outputs": [
    {
     "data": {
      "text/plain": [
       "Index(['경험치 2배', '경험치 3배 쿠폰(15분) 2장 지급', '경험치 3배 쿠폰(30분) 4장 지급',\n",
       "       '레이디 블레어의 코디 타임', '룬 경험치 버프 효과 +100%', '몬스터 컬렉션 '의문의 모몽' 3개 지급',\n",
       "       '몬스터 컬렉션 신규 몬스터 등록 확률 추가 100%', '몬스터 파크 클리어 경험치 추가 50%', '미라클 타임',\n",
       "       '불꽃늑대 퇴장 시 획득하는 경험치 2배', '소울 조각 사용 시 위대한 소울 획득 확률 5배',\n",
       "       '솜사탕 핑크빈 교환권 1개 지급', '스타포스 5, 10, 15성에서 강화 시도 시 성공확률 100%',\n",
       "       '스타포스 강화 비용 30% 할인', '어빌리티 재설정 비용 50% 할인',\n",
       "       '역대 마스터 라벨 풀 패키지 교환권 중 1개 지급', '익스트림 레벨업 타임', '익스트림 성장의 비약 5개 지급',\n",
       "       '주문의 흔적 강화 비용 50% 할인', '콤보킬 경험치 획득량 +300%', '테라 버닝 부스터 지급',\n",
       "       '폴로와 프리토의 현상금 사냥 경험치 2배', '폴로와 프리토 에스페시아의 현상금 사냥 경험치 2배'],\n",
       "      dtype='object', name='0')"
      ]
     },
     "execution_count": 52,
     "metadata": {},
     "output_type": "execute_result"
    }
   ],
   "source": [
    "df.index"
   ]
  },
  {
   "cell_type": "code",
   "execution_count": null,
   "metadata": {},
   "outputs": [],
   "source": []
  }
 ],
 "metadata": {
  "kernelspec": {
   "display_name": "base",
   "language": "python",
   "name": "python3"
  },
  "language_info": {
   "codemirror_mode": {
    "name": "ipython",
    "version": 3
   },
   "file_extension": ".py",
   "mimetype": "text/x-python",
   "name": "python",
   "nbconvert_exporter": "python",
   "pygments_lexer": "ipython3",
   "version": "3.9.13"
  },
  "orig_nbformat": 4
 },
 "nbformat": 4,
 "nbformat_minor": 2
}
